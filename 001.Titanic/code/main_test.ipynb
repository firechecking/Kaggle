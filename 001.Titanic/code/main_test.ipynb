{
 "cells": [
  {
   "cell_type": "code",
   "execution_count": 99,
   "metadata": {
    "collapsed": false
   },
   "outputs": [],
   "source": [
    "import numpy as np\n",
    "import pandas as pd\n",
    "import matplotlib.pyplot as plt\n",
    "%matplotlib inline"
   ]
  },
  {
   "cell_type": "code",
   "execution_count": 100,
   "metadata": {
    "collapsed": false
   },
   "outputs": [
    {
     "name": "stdout",
     "output_type": "stream",
     "text": [
      "((891, 12), (418, 11))\n",
      "----------------------------------------------------\n",
      "<class 'pandas.core.frame.DataFrame'>\n",
      "RangeIndex: 891 entries, 0 to 890\n",
      "Data columns (total 12 columns):\n",
      "PassengerId    891 non-null int64\n",
      "Survived       891 non-null int64\n",
      "Pclass         891 non-null int64\n",
      "Name           891 non-null object\n",
      "Sex            891 non-null object\n",
      "Age            714 non-null float64\n",
      "SibSp          891 non-null int64\n",
      "Parch          891 non-null int64\n",
      "Ticket         891 non-null object\n",
      "Fare           891 non-null float64\n",
      "Cabin          204 non-null object\n",
      "Embarked       889 non-null object\n",
      "dtypes: float64(2), int64(5), object(5)\n",
      "memory usage: 83.6+ KB\n",
      "None\n",
      "----------------------------------------------------\n",
      "       PassengerId    Survived      Pclass         Age       SibSp  \\\n",
      "count   891.000000  891.000000  891.000000  714.000000  891.000000   \n",
      "mean    446.000000    0.383838    2.308642   29.699118    0.523008   \n",
      "std     257.353842    0.486592    0.836071   14.526497    1.102743   \n",
      "min       1.000000    0.000000    1.000000    0.420000    0.000000   \n",
      "25%     223.500000    0.000000    2.000000         NaN    0.000000   \n",
      "50%     446.000000    0.000000    3.000000         NaN    0.000000   \n",
      "75%     668.500000    1.000000    3.000000         NaN    1.000000   \n",
      "max     891.000000    1.000000    3.000000   80.000000    8.000000   \n",
      "\n",
      "            Parch        Fare  \n",
      "count  891.000000  891.000000  \n",
      "mean     0.381594   32.204208  \n",
      "std      0.806057   49.693429  \n",
      "min      0.000000    0.000000  \n",
      "25%      0.000000    7.910400  \n",
      "50%      0.000000   14.454200  \n",
      "75%      0.000000   31.000000  \n",
      "max      6.000000  512.329200  \n",
      "----------------------------------------------------\n",
      "   PassengerId  Survived  Pclass  \\\n",
      "0            1         0       3   \n",
      "1            2         1       1   \n",
      "2            3         1       3   \n",
      "3            4         1       1   \n",
      "4            5         0       3   \n",
      "\n",
      "                                                Name     Sex   Age  SibSp  \\\n",
      "0                            Braund, Mr. Owen Harris    male  22.0      1   \n",
      "1  Cumings, Mrs. John Bradley (Florence Briggs Th...  female  38.0      1   \n",
      "2                             Heikkinen, Miss. Laina  female  26.0      0   \n",
      "3       Futrelle, Mrs. Jacques Heath (Lily May Peel)  female  35.0      1   \n",
      "4                           Allen, Mr. William Henry    male  35.0      0   \n",
      "\n",
      "   Parch            Ticket     Fare Cabin Embarked  \n",
      "0      0         A/5 21171   7.2500   NaN        S  \n",
      "1      0          PC 17599  71.2833   C85        C  \n",
      "2      0  STON/O2. 3101282   7.9250   NaN        S  \n",
      "3      0            113803  53.1000  C123        S  \n",
      "4      0            373450   8.0500   NaN        S  \n"
     ]
    }
   ],
   "source": [
    "train = pd.read_csv('../input/train.csv')\n",
    "test = pd.read_csv('../input/test.csv')\n",
    "print(train.shape,test.shape)\n",
    "print(\"----------------------------------------------------\")\n",
    "print(train.info())\n",
    "print(\"----------------------------------------------------\")\n",
    "print(train.describe())\n",
    "print(\"----------------------------------------------------\")\n",
    "print(train.head())"
   ]
  },
  {
   "cell_type": "code",
   "execution_count": 101,
   "metadata": {
    "collapsed": false
   },
   "outputs": [
    {
     "name": "stdout",
     "output_type": "stream",
     "text": [
      "    Age Cabin Embarked     Fare  \\\n",
      "0  22.0     U        S   7.2500   \n",
      "1  38.0   C85        C  71.2833   \n",
      "2  26.0     U        S   7.9250   \n",
      "3  35.0  C123        S  53.1000   \n",
      "4  35.0     U        S   8.0500   \n",
      "\n",
      "                                                Name  Parch  PassengerId  \\\n",
      "0                            Braund, Mr. Owen Harris      0            1   \n",
      "1  Cumings, Mrs. John Bradley (Florence Briggs Th...      0            2   \n",
      "2                             Heikkinen, Miss. Laina      0            3   \n",
      "3       Futrelle, Mrs. Jacques Heath (Lily May Peel)      0            4   \n",
      "4                           Allen, Mr. William Henry      0            5   \n",
      "\n",
      "   Pclass     Sex  SibSp  Survived            Ticket  \n",
      "0       3    male      1       0.0         A/5 21171  \n",
      "1       1  female      1       1.0          PC 17599  \n",
      "2       3  female      0       1.0  STON/O2. 3101282  \n",
      "3       1  female      1       1.0            113803  \n",
      "4       3    male      0       0.0            373450  \n",
      "<class 'pandas.core.frame.DataFrame'>\n",
      "RangeIndex: 1309 entries, 0 to 1308\n",
      "Data columns (total 12 columns):\n",
      "Age            1309 non-null float64\n",
      "Cabin          1309 non-null object\n",
      "Embarked       1309 non-null object\n",
      "Fare           1309 non-null float64\n",
      "Name           1309 non-null object\n",
      "Parch          1309 non-null int64\n",
      "PassengerId    1309 non-null int64\n",
      "Pclass         1309 non-null int64\n",
      "Sex            1309 non-null object\n",
      "SibSp          1309 non-null int64\n",
      "Survived       891 non-null float64\n",
      "Ticket         1309 non-null object\n",
      "dtypes: float64(3), int64(4), object(5)\n",
      "memory usage: 122.8+ KB\n",
      "None\n"
     ]
    }
   ],
   "source": [
    "# 处理缺失数据\n",
    "def fillData(pd_data):\n",
    "    pd_data['Age'] = pd_data['Age'].fillna(pd_data['Age'].mean())\n",
    "    pd_data['Fare'] = pd_data['Fare'].fillna(pd_data['Fare'].mean())\n",
    "    pd_data['Embarked'] = pd_data['Embarked'].fillna('S')\n",
    "    pd_data['Cabin'] = pd_data['Cabin'].fillna('U')\n",
    "    return pd_data\n",
    "\n",
    "full = train.append( test , ignore_index = True )\n",
    "fillData(full)\n",
    "\n",
    "print(full.head())\n",
    "print(full.info())"
   ]
  },
  {
   "cell_type": "code",
   "execution_count": 102,
   "metadata": {
    "collapsed": false
   },
   "outputs": [
    {
     "name": "stdout",
     "output_type": "stream",
     "text": [
      "    Age Cabin Embarked     Fare  \\\n",
      "0  22.0     U        S   7.2500   \n",
      "1  38.0   C85        C  71.2833   \n",
      "2  26.0     U        S   7.9250   \n",
      "3  35.0  C123        S  53.1000   \n",
      "4  35.0     U        S   8.0500   \n",
      "\n",
      "                                                Name  Parch  PassengerId  \\\n",
      "0                            Braund, Mr. Owen Harris      0            1   \n",
      "1  Cumings, Mrs. John Bradley (Florence Briggs Th...      0            2   \n",
      "2                             Heikkinen, Miss. Laina      0            3   \n",
      "3       Futrelle, Mrs. Jacques Heath (Lily May Peel)      0            4   \n",
      "4                           Allen, Mr. William Henry      0            5   \n",
      "\n",
      "   Pclass  Sex  SibSp  Survived            Ticket  \n",
      "0       3    1      1       0.0         A/5 21171  \n",
      "1       1    0      1       1.0          PC 17599  \n",
      "2       3    0      0       1.0  STON/O2. 3101282  \n",
      "3       1    0      1       1.0            113803  \n",
      "4       3    1      0       0.0            373450  \n"
     ]
    }
   ],
   "source": [
    "sex_mapDict = {'male':1,'female':0}\n",
    "full['Sex'] = full['Sex'].map(sex_mapDict)\n",
    "print(full.head())"
   ]
  },
  {
   "cell_type": "code",
   "execution_count": 103,
   "metadata": {
    "collapsed": false
   },
   "outputs": [
    {
     "name": "stdout",
     "output_type": "stream",
     "text": [
      "<class 'pandas.core.frame.DataFrame'>\n",
      "RangeIndex: 1309 entries, 0 to 1308\n",
      "Data columns (total 3 columns):\n",
      "Embarked_C    1309 non-null float64\n",
      "Embarked_Q    1309 non-null float64\n",
      "Embarked_S    1309 non-null float64\n",
      "dtypes: float64(3)\n",
      "memory usage: 30.8 KB\n",
      "None\n",
      "   Embarked_C  Embarked_Q  Embarked_S\n",
      "0         0.0         0.0         1.0\n",
      "1         1.0         0.0         0.0\n",
      "2         0.0         0.0         1.0\n",
      "3         0.0         0.0         1.0\n",
      "4         0.0         0.0         1.0\n"
     ]
    }
   ],
   "source": [
    "embarkedDf = pd.DataFrame()\n",
    "\n",
    "embarkedDf = pd.get_dummies(full['Embarked'],prefix='Embarked')\n",
    "print embarkedDf.info()\n",
    "print embarkedDf.head()"
   ]
  },
  {
   "cell_type": "code",
   "execution_count": 104,
   "metadata": {
    "collapsed": false
   },
   "outputs": [],
   "source": [
    "full = pd.concat([full,embarkedDf],axis = 1)\n",
    "full = full.drop('Embarked',axis=1)"
   ]
  },
  {
   "cell_type": "code",
   "execution_count": 105,
   "metadata": {
    "collapsed": false
   },
   "outputs": [
    {
     "name": "stdout",
     "output_type": "stream",
     "text": [
      "<class 'pandas.core.frame.DataFrame'>\n",
      "RangeIndex: 1309 entries, 0 to 1308\n",
      "Data columns (total 14 columns):\n",
      "Age            1309 non-null float64\n",
      "Cabin          1309 non-null object\n",
      "Fare           1309 non-null float64\n",
      "Name           1309 non-null object\n",
      "Parch          1309 non-null int64\n",
      "PassengerId    1309 non-null int64\n",
      "Pclass         1309 non-null int64\n",
      "Sex            1309 non-null int64\n",
      "SibSp          1309 non-null int64\n",
      "Survived       891 non-null float64\n",
      "Ticket         1309 non-null object\n",
      "Embarked_C     1309 non-null float64\n",
      "Embarked_Q     1309 non-null float64\n",
      "Embarked_S     1309 non-null float64\n",
      "dtypes: float64(6), int64(5), object(3)\n",
      "memory usage: 143.2+ KB\n",
      "None\n",
      "-------------------------------------------------------\n",
      "               Age         Fare        Parch  PassengerId       Pclass  \\\n",
      "count  1309.000000  1309.000000  1309.000000  1309.000000  1309.000000   \n",
      "mean     29.881138    33.295479     0.385027   655.000000     2.294882   \n",
      "std      12.883193    51.738879     0.865560   378.020061     0.837836   \n",
      "min       0.170000     0.000000     0.000000     1.000000     1.000000   \n",
      "25%      22.000000     7.895800     0.000000   328.000000     2.000000   \n",
      "50%      29.881138    14.454200     0.000000   655.000000     3.000000   \n",
      "75%      35.000000    31.275000     0.000000   982.000000     3.000000   \n",
      "max      80.000000   512.329200     9.000000  1309.000000     3.000000   \n",
      "\n",
      "               Sex        SibSp    Survived   Embarked_C   Embarked_Q  \\\n",
      "count  1309.000000  1309.000000  891.000000  1309.000000  1309.000000   \n",
      "mean      0.644003     0.498854    0.383838     0.206264     0.093965   \n",
      "std       0.478997     1.041658    0.486592     0.404777     0.291891   \n",
      "min       0.000000     0.000000    0.000000     0.000000     0.000000   \n",
      "25%       0.000000     0.000000         NaN     0.000000     0.000000   \n",
      "50%       1.000000     0.000000         NaN     0.000000     0.000000   \n",
      "75%       1.000000     1.000000         NaN     0.000000     0.000000   \n",
      "max       1.000000     8.000000    1.000000     1.000000     1.000000   \n",
      "\n",
      "        Embarked_S  \n",
      "count  1309.000000  \n",
      "mean      0.699771  \n",
      "std       0.458533  \n",
      "min       0.000000  \n",
      "25%       0.000000  \n",
      "50%       1.000000  \n",
      "75%       1.000000  \n",
      "max       1.000000  \n",
      "-------------------------------------------------------\n",
      "    Age Cabin     Fare                                               Name  \\\n",
      "0  22.0     U   7.2500                            Braund, Mr. Owen Harris   \n",
      "1  38.0   C85  71.2833  Cumings, Mrs. John Bradley (Florence Briggs Th...   \n",
      "2  26.0     U   7.9250                             Heikkinen, Miss. Laina   \n",
      "3  35.0  C123  53.1000       Futrelle, Mrs. Jacques Heath (Lily May Peel)   \n",
      "4  35.0     U   8.0500                           Allen, Mr. William Henry   \n",
      "\n",
      "   Parch  PassengerId  Pclass  Sex  SibSp  Survived            Ticket  \\\n",
      "0      0            1       3    1      1       0.0         A/5 21171   \n",
      "1      0            2       1    0      1       1.0          PC 17599   \n",
      "2      0            3       3    0      0       1.0  STON/O2. 3101282   \n",
      "3      0            4       1    0      1       1.0            113803   \n",
      "4      0            5       3    1      0       0.0            373450   \n",
      "\n",
      "   Embarked_C  Embarked_Q  Embarked_S  \n",
      "0         0.0         0.0         1.0  \n",
      "1         1.0         0.0         0.0  \n",
      "2         0.0         0.0         1.0  \n",
      "3         0.0         0.0         1.0  \n",
      "4         0.0         0.0         1.0  \n"
     ]
    }
   ],
   "source": [
    "print full.info()\n",
    "print \"-------------------------------------------------------\"\n",
    "print full.describe()\n",
    "print \"-------------------------------------------------------\"\n",
    "print full.head()"
   ]
  },
  {
   "cell_type": "code",
   "execution_count": 106,
   "metadata": {
    "collapsed": true
   },
   "outputs": [],
   "source": [
    "pclassDf = pd.DataFrame()\n",
    "\n",
    "#使用get_dummies进行one-hot编码，列名前缀是Pclass\n",
    "pclassDf = pd.get_dummies( full['Pclass'] , prefix='Pclass' )\n",
    "\n",
    "#添加one-hot编码产生的虚拟变量（dummy variables）到泰坦尼克号数据集full\n",
    "full = pd.concat([full,pclassDf],axis=1)\n",
    "\n",
    "#删掉客舱等级（Pclass）这一列\n",
    "full.drop('Pclass',axis=1,inplace=True)"
   ]
  },
  {
   "cell_type": "code",
   "execution_count": 107,
   "metadata": {
    "collapsed": false
   },
   "outputs": [],
   "source": [
    "full = full.drop(['PassengerId','Name','Cabin','Ticket'],axis=1)"
   ]
  },
  {
   "cell_type": "code",
   "execution_count": 108,
   "metadata": {
    "collapsed": false
   },
   "outputs": [
    {
     "name": "stdout",
     "output_type": "stream",
     "text": [
      "<class 'pandas.core.frame.DataFrame'>\n",
      "RangeIndex: 1309 entries, 0 to 1308\n",
      "Data columns (total 12 columns):\n",
      "Age           1309 non-null float64\n",
      "Fare          1309 non-null float64\n",
      "Parch         1309 non-null int64\n",
      "Sex           1309 non-null int64\n",
      "SibSp         1309 non-null int64\n",
      "Survived      891 non-null float64\n",
      "Embarked_C    1309 non-null float64\n",
      "Embarked_Q    1309 non-null float64\n",
      "Embarked_S    1309 non-null float64\n",
      "Pclass_1      1309 non-null float64\n",
      "Pclass_2      1309 non-null float64\n",
      "Pclass_3      1309 non-null float64\n",
      "dtypes: float64(9), int64(3)\n",
      "memory usage: 122.8 KB\n",
      "None\n",
      "-------------------------------------------------------\n",
      "               Age         Fare        Parch          Sex        SibSp  \\\n",
      "count  1309.000000  1309.000000  1309.000000  1309.000000  1309.000000   \n",
      "mean     29.881138    33.295479     0.385027     0.644003     0.498854   \n",
      "std      12.883193    51.738879     0.865560     0.478997     1.041658   \n",
      "min       0.170000     0.000000     0.000000     0.000000     0.000000   \n",
      "25%      22.000000     7.895800     0.000000     0.000000     0.000000   \n",
      "50%      29.881138    14.454200     0.000000     1.000000     0.000000   \n",
      "75%      35.000000    31.275000     0.000000     1.000000     1.000000   \n",
      "max      80.000000   512.329200     9.000000     1.000000     8.000000   \n",
      "\n",
      "         Survived   Embarked_C   Embarked_Q   Embarked_S     Pclass_1  \\\n",
      "count  891.000000  1309.000000  1309.000000  1309.000000  1309.000000   \n",
      "mean     0.383838     0.206264     0.093965     0.699771     0.246753   \n",
      "std      0.486592     0.404777     0.291891     0.458533     0.431287   \n",
      "min      0.000000     0.000000     0.000000     0.000000     0.000000   \n",
      "25%           NaN     0.000000     0.000000     0.000000     0.000000   \n",
      "50%           NaN     0.000000     0.000000     1.000000     0.000000   \n",
      "75%           NaN     0.000000     0.000000     1.000000     0.000000   \n",
      "max      1.000000     1.000000     1.000000     1.000000     1.000000   \n",
      "\n",
      "          Pclass_2     Pclass_3  \n",
      "count  1309.000000  1309.000000  \n",
      "mean      0.211612     0.541635  \n",
      "std       0.408607     0.498454  \n",
      "min       0.000000     0.000000  \n",
      "25%       0.000000     0.000000  \n",
      "50%       0.000000     1.000000  \n",
      "75%       0.000000     1.000000  \n",
      "max       1.000000     1.000000  \n",
      "-------------------------------------------------------\n",
      "    Age     Fare  Parch  Sex  SibSp  Survived  Embarked_C  Embarked_Q  \\\n",
      "0  22.0   7.2500      0    1      1       0.0         0.0         0.0   \n",
      "1  38.0  71.2833      0    0      1       1.0         1.0         0.0   \n",
      "2  26.0   7.9250      0    0      0       1.0         0.0         0.0   \n",
      "3  35.0  53.1000      0    0      1       1.0         0.0         0.0   \n",
      "4  35.0   8.0500      0    1      0       0.0         0.0         0.0   \n",
      "\n",
      "   Embarked_S  Pclass_1  Pclass_2  Pclass_3  \n",
      "0         1.0       0.0       0.0       1.0  \n",
      "1         0.0       1.0       0.0       0.0  \n",
      "2         1.0       0.0       0.0       1.0  \n",
      "3         1.0       1.0       0.0       0.0  \n",
      "4         1.0       0.0       0.0       1.0  \n",
      "-------------------------------------------------------\n",
      "(1309, 12)\n"
     ]
    }
   ],
   "source": [
    "print full.info()\n",
    "print \"-------------------------------------------------------\"\n",
    "print full.describe()\n",
    "print \"-------------------------------------------------------\"\n",
    "print full.head()\n",
    "print \"-------------------------------------------------------\"\n",
    "print full.shape"
   ]
  },
  {
   "cell_type": "code",
   "execution_count": 112,
   "metadata": {
    "collapsed": false
   },
   "outputs": [
    {
     "name": "stdout",
     "output_type": "stream",
     "text": [
      "                 Age      Fare     Parch       Sex     SibSp  Survived  \\\n",
      "Age         1.000000  0.171521 -0.130872  0.057397 -0.190747 -0.070323   \n",
      "Fare        0.171521  1.000000  0.221522 -0.185484  0.160224  0.257307   \n",
      "Parch      -0.130872  0.221522  1.000000 -0.213125  0.373587  0.081629   \n",
      "Sex         0.057397 -0.185484 -0.213125  1.000000 -0.109609 -0.543351   \n",
      "SibSp      -0.190747  0.160224  0.373587 -0.109609  1.000000 -0.035322   \n",
      "Survived   -0.070323  0.257307  0.081629 -0.543351 -0.035322  1.000000   \n",
      "Embarked_C  0.076179  0.286241 -0.008635 -0.066564 -0.048396  0.168240   \n",
      "Embarked_Q -0.012718 -0.130054 -0.100943 -0.088651 -0.048678  0.003650   \n",
      "Embarked_S -0.059153 -0.169894  0.071881  0.115193  0.073709 -0.149683   \n",
      "Pclass_1    0.362587  0.599956 -0.013033 -0.107371 -0.034256  0.285904   \n",
      "Pclass_2   -0.014193 -0.121372 -0.010057 -0.028862 -0.052419  0.093349   \n",
      "Pclass_3   -0.302093 -0.419616  0.019521  0.116562  0.072610 -0.322308   \n",
      "\n",
      "            Embarked_C  Embarked_Q  Embarked_S  Pclass_1  Pclass_2  Pclass_3  \n",
      "Age           0.076179   -0.012718   -0.059153  0.362587 -0.014193 -0.302093  \n",
      "Fare          0.286241   -0.130054   -0.169894  0.599956 -0.121372 -0.419616  \n",
      "Parch        -0.008635   -0.100943    0.071881 -0.013033 -0.010057  0.019521  \n",
      "Sex          -0.066564   -0.088651    0.115193 -0.107371 -0.028862  0.116562  \n",
      "SibSp        -0.048396   -0.048678    0.073709 -0.034256 -0.052419  0.072610  \n",
      "Survived      0.168240    0.003650   -0.149683  0.285904  0.093349 -0.322308  \n",
      "Embarked_C    1.000000   -0.164166   -0.778262  0.325722 -0.134675 -0.171430  \n",
      "Embarked_Q   -0.164166    1.000000   -0.491656 -0.166101 -0.121973  0.243706  \n",
      "Embarked_S   -0.778262   -0.491656    1.000000 -0.181800  0.196532 -0.003805  \n",
      "Pclass_1      0.325722   -0.166101   -0.181800  1.000000 -0.296526 -0.622172  \n",
      "Pclass_2     -0.134675   -0.121973    0.196532 -0.296526  1.000000 -0.563180  \n",
      "Pclass_3     -0.171430    0.243706   -0.003805 -0.622172 -0.563180  1.000000  \n",
      "-------------------------------------------------------\n",
      "Survived      1.000000\n",
      "Pclass_1      0.285904\n",
      "Fare          0.257307\n",
      "Embarked_C    0.168240\n",
      "Pclass_2      0.093349\n",
      "Parch         0.081629\n",
      "Embarked_Q    0.003650\n",
      "SibSp        -0.035322\n",
      "Age          -0.070323\n",
      "Embarked_S   -0.149683\n",
      "Pclass_3     -0.322308\n",
      "Sex          -0.543351\n",
      "Name: Survived, dtype: float64\n"
     ]
    }
   ],
   "source": [
    "corrDf = full.corr()\n",
    "print corrDf\n",
    "print \"-------------------------------------------------------\"\n",
    "print corrDf['Survived'].sort_values(ascending =False)"
   ]
  }
 ],
 "metadata": {
  "kernelspec": {
   "display_name": "Python [tensorflow]",
   "language": "python",
   "name": "Python [tensorflow]"
  },
  "language_info": {
   "codemirror_mode": {
    "name": "ipython",
    "version": 2.0
   },
   "file_extension": ".py",
   "mimetype": "text/x-python",
   "name": "python",
   "nbconvert_exporter": "python",
   "pygments_lexer": "ipython2",
   "version": "2.7.12"
  }
 },
 "nbformat": 4,
 "nbformat_minor": 0
}