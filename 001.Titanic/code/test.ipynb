{
 "cells": [
  {
   "cell_type": "code",
   "execution_count": 27,
   "metadata": {
    "collapsed": false
   },
   "outputs": [
    {
     "name": "stdout",
     "output_type": "stream",
     "text": [
      "['task3_train.csv', 'test.csv', 'train.csv', 'gender_submission.csv']\n"
     ]
    }
   ],
   "source": [
    "import numpy as np # linear algebra\n",
    "import pandas as pd # data processing, CSV file I/O (e.g. pd.read_csv)\n",
    "\n",
    "# Input data files are available in the \"../input/\" directory.\n",
    "# For example, running this (by clicking run or pressing Shift+Enter) will list the files in the input directory\n",
    "\n",
    "import os\n",
    "print(os.listdir(\"../input\"))"
   ]
  },
  {
   "cell_type": "code",
   "execution_count": 28,
   "metadata": {
    "collapsed": false
   },
   "outputs": [
    {
     "name": "stdout",
     "output_type": "stream",
     "text": [
      "            0         1       2   \\\n",
      "0  PassengerId  Survived  Pclass   \n",
      "1            1         0       3   \n",
      "2            2         1       1   \n",
      "3            3         1       3   \n",
      "4            4         1       1   \n",
      "\n",
      "                                                  3       4    5      6   \\\n",
      "0                                               Name     Sex  Age  SibSp   \n",
      "1                            Braund, Mr. Owen Harris    male   22      1   \n",
      "2  Cumings, Mrs. John Bradley (Florence Briggs Th...  female   38      1   \n",
      "3                             Heikkinen, Miss. Laina  female   26      0   \n",
      "4       Futrelle, Mrs. Jacques Heath (Lily May Peel)  female   35      1   \n",
      "\n",
      "      7                 8        9      10        11  \n",
      "0  Parch            Ticket     Fare  Cabin  Embarked  \n",
      "1      0         A/5 21171     7.25    NaN         S  \n",
      "2      0          PC 17599  71.2833    C85         C  \n",
      "3      0  STON/O2. 3101282    7.925    NaN         S  \n",
      "4      0            113803     53.1   C123         S  \n",
      "      0  1  2                                         3       4    5  6  7   \\\n",
      "887  887  0  2                     Montvila, Rev. Juozas    male   27  0  0   \n",
      "888  888  1  1              Graham, Miss. Margaret Edith  female   19  0  0   \n",
      "889  889  0  3  Johnston, Miss. Catherine Helen \"Carrie\"  female  NaN  1  2   \n",
      "890  890  1  1                     Behr, Mr. Karl Howell    male   26  0  0   \n",
      "891  891  0  3                       Dooley, Mr. Patrick    male   32  0  0   \n",
      "\n",
      "             8      9     10 11  \n",
      "887      211536     13   NaN  S  \n",
      "888      112053     30   B42  S  \n",
      "889  W./C. 6607  23.45   NaN  S  \n",
      "890      111369     30  C148  C  \n",
      "891      370376   7.75   NaN  Q  \n"
     ]
    }
   ],
   "source": [
    "df = pd.read_csv('../input/train.csv',header=None,sep=',')\n",
    "print(df.head())\n",
    "print(df.tail())\n",
    "# 0：PassengerId => 乘客ID\n",
    "# 1：Survived => 是否获救\n",
    "# 2：Pclass => 乘客等级(1/2/3等舱位)\n",
    "# 3：Name => 乘客姓名\n",
    "# 4：Sex => 性别\n",
    "# 5：Age => 年龄\n",
    "# 6：SibSp => 堂兄弟/妹个数\n",
    "# 7：Parch => 父母与小孩个数\n",
    "# 8：Ticket => 船票信息\n",
    "# 9：Fare => 票价\n",
    "# 10：Cabin => 客舱\n",
    "# 11：Embarked => 登船港口"
   ]
  },
  {
   "cell_type": "code",
   "execution_count": 29,
   "metadata": {
    "collapsed": false
   },
   "outputs": [
    {
     "name": "stdout",
     "output_type": "stream",
     "text": [
      "            0         1       2     3    4    5      6      7       8     9   \\\n",
      "0  PassengerId  Survived  Pclass  Name  Sex  Age  SibSp  Parch  Ticket  Fare   \n",
      "\n",
      "      10        11  \n",
      "0  Cabin  Embarked  \n"
     ]
    }
   ],
   "source": [
    "print(df.head(1))"
   ]
  },
  {
   "cell_type": "code",
   "execution_count": 30,
   "metadata": {
    "collapsed": false
   },
   "outputs": [
    {
     "name": "stdout",
     "output_type": "stream",
     "text": [
      "            0         1       2     3    4    5      6      7       8     9   \\\n",
      "0  PassengerId  Survived  Pclass  Name  Sex  Age  SibSp  Parch  Ticket  Fare   \n",
      "\n",
      "      10        11  \n",
      "0  Cabin  Embarked  \n",
      "         0    1    2                          3     4    5    6    7       8   \\\n",
      "count   892  892  892                        892   892  715  892  892     892   \n",
      "unique  892    3    4                        892     3   89    8    8     682   \n",
      "top     823    0    3  Graham, Mr. George Edward  male   24    0    0  347082   \n",
      "freq      1  549  491                          1   577   30  608  678       7   \n",
      "\n",
      "          9            10   11  \n",
      "count    892          205  890  \n",
      "unique   249          148    4  \n",
      "top     8.05  C23 C25 C27    S  \n",
      "freq      43            4  644  \n"
     ]
    }
   ],
   "source": [
    "print(df.head(1))\n",
    "print(df.describe())"
   ]
  },
  {
   "cell_type": "code",
   "execution_count": 41,
   "metadata": {
    "collapsed": false
   },
   "outputs": [
    {
     "name": "stdout",
     "output_type": "stream",
     "text": [
      "339\n"
     ]
    }
   ],
   "source": [
    "df = df[1:]\n",
    "dd = df[1].astype('int')\n",
    "print(dd.sum())"
   ]
  },
  {
   "cell_type": "code",
   "execution_count": null,
   "metadata": {
    "collapsed": true
   },
   "outputs": [],
   "source": []
  }
 ],
 "metadata": {
  "anaconda-cloud": {},
  "kernelspec": {
   "display_name": "Python [tensorflow]",
   "language": "python",
   "name": "Python [tensorflow]"
  },
  "language_info": {
   "codemirror_mode": {
    "name": "ipython",
    "version": 2
   },
   "file_extension": ".py",
   "mimetype": "text/x-python",
   "name": "python",
   "nbconvert_exporter": "python",
   "pygments_lexer": "ipython2",
   "version": "2.7.12"
  }
 },
 "nbformat": 4,
 "nbformat_minor": 0
}
